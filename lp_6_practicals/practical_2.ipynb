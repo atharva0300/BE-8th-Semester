{
  "cells": [
    {
      "cell_type": "code",
      "execution_count": 20,
      "metadata": {
        "colab": {
          "base_uri": "https://localhost:8080/"
        },
        "id": "8KapJaFgtXaN",
        "outputId": "21c37446-2295-4c21-c78b-0a040987868d"
      },
      "outputs": [
        {
          "name": "stdout",
          "output_type": "stream",
          "text": [
            "Requirement already satisfied: nltk in /usr/local/lib/python3.10/dist-packages (3.8.1)\n",
            "Requirement already satisfied: click in /usr/local/lib/python3.10/dist-packages (from nltk) (8.1.7)\n",
            "Requirement already satisfied: joblib in /usr/local/lib/python3.10/dist-packages (from nltk) (1.3.2)\n",
            "Requirement already satisfied: regex>=2021.8.3 in /usr/local/lib/python3.10/dist-packages (from nltk) (2023.12.25)\n",
            "Requirement already satisfied: tqdm in /usr/local/lib/python3.10/dist-packages (from nltk) (4.66.2)\n"
          ]
        }
      ],
      "source": [
        "pip install nltk"
      ]
    },
    {
      "cell_type": "code",
      "execution_count": 21,
      "metadata": {
        "colab": {
          "base_uri": "https://localhost:8080/"
        },
        "id": "BY6IUjSxtsKC",
        "outputId": "80a6e656-0e20-4183-e305-4980b1c29c17"
      },
      "outputs": [
        {
          "name": "stdout",
          "output_type": "stream",
          "text": [
            "Requirement already satisfied: pandas in /usr/local/lib/python3.10/dist-packages (1.5.3)\n",
            "Requirement already satisfied: scikit-learn in /usr/local/lib/python3.10/dist-packages (1.2.2)\n",
            "Requirement already satisfied: python-dateutil>=2.8.1 in /usr/local/lib/python3.10/dist-packages (from pandas) (2.8.2)\n",
            "Requirement already satisfied: pytz>=2020.1 in /usr/local/lib/python3.10/dist-packages (from pandas) (2023.4)\n",
            "Requirement already satisfied: numpy>=1.21.0 in /usr/local/lib/python3.10/dist-packages (from pandas) (1.25.2)\n",
            "Requirement already satisfied: scipy>=1.3.2 in /usr/local/lib/python3.10/dist-packages (from scikit-learn) (1.11.4)\n",
            "Requirement already satisfied: joblib>=1.1.1 in /usr/local/lib/python3.10/dist-packages (from scikit-learn) (1.3.2)\n",
            "Requirement already satisfied: threadpoolctl>=2.0.0 in /usr/local/lib/python3.10/dist-packages (from scikit-learn) (3.3.0)\n",
            "Requirement already satisfied: six>=1.5 in /usr/local/lib/python3.10/dist-packages (from python-dateutil>=2.8.1->pandas) (1.16.0)\n"
          ]
        }
      ],
      "source": [
        "pip install pandas scikit-learn"
      ]
    },
    {
      "cell_type": "code",
      "execution_count": 22,
      "metadata": {
        "colab": {
          "base_uri": "https://localhost:8080/"
        },
        "id": "ayKzx902tXaO",
        "outputId": "d65c0f11-e097-489f-e1f4-4e15b7da715d"
      },
      "outputs": [
        {
          "name": "stdout",
          "output_type": "stream",
          "text": [
            "  Make       Model  Year             Engine Fuel Type  Engine HP  \\\n",
            "0  BMW  1 Series M  2011  premium unleaded (required)      335.0   \n",
            "1  BMW    1 Series  2011  premium unleaded (required)      300.0   \n",
            "2  BMW    1 Series  2011  premium unleaded (required)      300.0   \n",
            "3  BMW    1 Series  2011  premium unleaded (required)      230.0   \n",
            "4  BMW    1 Series  2011  premium unleaded (required)      230.0   \n",
            "\n",
            "   Engine Cylinders Transmission Type     Driven_Wheels  Number of Doors  \\\n",
            "0               6.0            MANUAL  rear wheel drive              2.0   \n",
            "1               6.0            MANUAL  rear wheel drive              2.0   \n",
            "2               6.0            MANUAL  rear wheel drive              2.0   \n",
            "3               6.0            MANUAL  rear wheel drive              2.0   \n",
            "4               6.0            MANUAL  rear wheel drive              2.0   \n",
            "\n",
            "                         Market Category Vehicle Size Vehicle Style  \\\n",
            "0  Factory Tuner,Luxury,High-Performance      Compact         Coupe   \n",
            "1                     Luxury,Performance      Compact   Convertible   \n",
            "2                Luxury,High-Performance      Compact         Coupe   \n",
            "3                     Luxury,Performance      Compact         Coupe   \n",
            "4                                 Luxury      Compact   Convertible   \n",
            "\n",
            "   highway MPG  city mpg  Popularity   MSRP  \\\n",
            "0           26        19        3916  46135   \n",
            "1           28        19        3916  40650   \n",
            "2           28        20        3916  36350   \n",
            "3           28        18        3916  29450   \n",
            "4           28        18        3916  34500   \n",
            "\n",
            "                                                text  \n",
            "0  BMW 1 Series M Factory Tuner,Luxury,High-Perfo...  \n",
            "1                    BMW 1 Series Luxury,Performance  \n",
            "2               BMW 1 Series Luxury,High-Performance  \n",
            "3                    BMW 1 Series Luxury,Performance  \n",
            "4                                BMW 1 Series Luxury  \n"
          ]
        },
        {
          "name": "stderr",
          "output_type": "stream",
          "text": [
            "<ipython-input-22-de8bafca27a9>:10: SettingWithCopyWarning: \n",
            "A value is trying to be set on a copy of a slice from a DataFrame.\n",
            "Try using .loc[row_indexer,col_indexer] = value instead\n",
            "\n",
            "See the caveats in the documentation: https://pandas.pydata.org/pandas-docs/stable/user_guide/indexing.html#returning-a-view-versus-a-copy\n",
            "  df['text'] = df['Make'] + ' ' + df['Model'] + ' ' + df['Market Category']\n"
          ]
        }
      ],
      "source": [
        "import pandas as pd\n",
        "\n",
        "# Load the dataset\n",
        "df = pd.read_csv('data.csv')\n",
        "\n",
        "# Drop rows with missing values\n",
        "df = df.dropna()\n",
        "\n",
        "# Combine relevant text columns into a single text column\n",
        "df['text'] = df['Make'] + ' ' + df['Model'] + ' ' + df['Market Category']\n",
        "\n",
        "# Display the first few rows of the dataset\n",
        "print(df.head())"
      ]
    },
    {
      "cell_type": "code",
      "execution_count": 23,
      "metadata": {
        "colab": {
          "base_uri": "https://localhost:8080/"
        },
        "id": "D7iTXA4ttXaP",
        "outputId": "e6dea47f-b748-42f7-81f9-7489cd3343c4"
      },
      "outputs": [
        {
          "name": "stdout",
          "output_type": "stream",
          "text": [
            "[[0 0 0 ... 0 0 0]\n",
            " [0 0 0 ... 0 0 0]\n",
            " [0 0 0 ... 0 0 0]\n",
            " ...\n",
            " [0 0 0 ... 0 1 0]\n",
            " [0 0 0 ... 0 1 0]\n",
            " [0 0 0 ... 0 0 1]]\n"
          ]
        }
      ],
      "source": [
        "from sklearn.feature_extraction.text import CountVectorizer\n",
        "\n",
        "# Create a CountVectorizer instance\n",
        "count_vectorizer = CountVectorizer()\n",
        "\n",
        "\n",
        "# Fit and transform the text data\n",
        "bow_matrix = count_vectorizer.fit_transform(df['text'])\n",
        "\n",
        "# Get the feature names (words)\n",
        "feature_names = count_vectorizer.get_feature_names_out()\n",
        "\n",
        "# Display the BoW matrix\n",
        "print(bow_matrix.toarray())\n"
      ]
    },
    {
      "cell_type": "code",
      "execution_count": 24,
      "metadata": {
        "colab": {
          "base_uri": "https://localhost:8080/"
        },
        "id": "w5lq9YlEtXaP",
        "outputId": "870e8ffb-c08d-4d49-e9bc-b937cdaf0e1e"
      },
      "outputs": [
        {
          "name": "stdout",
          "output_type": "stream",
          "text": [
            "[[0.         0.         0.         ... 0.         0.         0.        ]\n",
            " [0.         0.         0.         ... 0.         0.         0.        ]\n",
            " [0.         0.         0.         ... 0.         0.         0.        ]\n",
            " ...\n",
            " [0.         0.         0.         ... 0.         0.78996879 0.        ]\n",
            " [0.         0.         0.         ... 0.         0.78996879 0.        ]\n",
            " [0.         0.         0.         ... 0.         0.         0.8691246 ]]\n"
          ]
        }
      ],
      "source": [
        "from sklearn.feature_extraction.text import TfidfVectorizer\n",
        "\n",
        "# Create a TfidfVectorizer instance\n",
        "tfidf_vectorizer = TfidfVectorizer()\n",
        "\n",
        "# Fit and transform the text data\n",
        "tfidf_matrix = tfidf_vectorizer.fit_transform(df['text'])\n",
        "\n",
        "# Display the TF-IDF matrix\n",
        "print(tfidf_matrix.toarray())\n"
      ]
    },
    {
      "cell_type": "code",
      "execution_count": 25,
      "metadata": {
        "colab": {
          "base_uri": "https://localhost:8080/"
        },
        "id": "aTM4ViaCtXaP",
        "outputId": "48fd472e-d72e-4bb2-d845-bd016ebb73af"
      },
      "outputs": [
        {
          "name": "stdout",
          "output_type": "stream",
          "text": [
            "Requirement already satisfied: gensim in /usr/local/lib/python3.10/dist-packages (4.3.2)\n",
            "Requirement already satisfied: numpy>=1.18.5 in /usr/local/lib/python3.10/dist-packages (from gensim) (1.25.2)\n",
            "Requirement already satisfied: scipy>=1.7.0 in /usr/local/lib/python3.10/dist-packages (from gensim) (1.11.4)\n",
            "Requirement already satisfied: smart-open>=1.8.1 in /usr/local/lib/python3.10/dist-packages (from gensim) (6.4.0)\n"
          ]
        }
      ],
      "source": [
        "pip install gensim"
      ]
    },
    {
      "cell_type": "code",
      "execution_count": 26,
      "metadata": {
        "colab": {
          "base_uri": "https://localhost:8080/"
        },
        "id": "yKEZgqTgtXaP",
        "outputId": "d6879d8a-97ec-4f99-92e1-d2da9fc009aa"
      },
      "outputs": [
        {
          "name": "stderr",
          "output_type": "stream",
          "text": [
            "[nltk_data] Downloading package punkt to /root/nltk_data...\n",
            "[nltk_data]   Package punkt is already up-to-date!\n"
          ]
        },
        {
          "data": {
            "text/plain": [
              "True"
            ]
          },
          "execution_count": 26,
          "metadata": {},
          "output_type": "execute_result"
        }
      ],
      "source": [
        "from gensim.models import Word2Vec\n",
        "from nltk.tokenize import word_tokenize\n",
        "import nltk\n",
        "nltk.download('punkt')\n"
      ]
    },
    {
      "cell_type": "code",
      "execution_count": 27,
      "metadata": {
        "colab": {
          "base_uri": "https://localhost:8080/"
        },
        "id": "ivNpk9rLvehQ",
        "outputId": "6b3faffd-cf11-4b72-bc09-f6f1dae8605f"
      },
      "outputs": [
        {
          "name": "stdout",
          "output_type": "stream",
          "text": [
            "[ 1.08036352e-02 -4.39489406e-04 -1.06690507e-02  5.88977858e-02\n",
            " -5.91997523e-03 -4.99612503e-02 -3.48622212e-03  1.31689087e-01\n",
            " -1.68583989e-02 -8.15257728e-02  9.93280672e-03 -7.66396150e-02\n",
            "  1.92393437e-02  5.80028333e-02  4.53707948e-02  9.78613049e-02\n",
            " -1.21875026e-03 -9.08647478e-02  7.08369985e-02 -1.48074538e-01\n",
            "  1.32747302e-02 -2.71148887e-02  1.69068165e-02 -1.16855381e-02\n",
            "  2.24805437e-02  2.62322742e-02 -4.86130221e-03  3.15002762e-02\n",
            " -4.36389446e-02  2.70990543e-02  4.65355963e-02 -5.57976682e-03\n",
            "  1.59789827e-02 -7.01350793e-02  4.47744643e-03  1.78085752e-02\n",
            " -1.17510837e-02 -4.64244746e-02  2.30766796e-02 -5.80990724e-02\n",
            "  4.07802798e-02 -7.83341303e-02 -1.01637393e-01  2.03255359e-02\n",
            "  1.03280738e-01 -3.59732881e-02 -5.05348146e-02 -1.93312240e-03\n",
            " -9.70410090e-03  9.07282010e-02  1.67349353e-02 -2.08332781e-02\n",
            " -4.54117134e-02  3.28882262e-02  1.15817688e-01  4.47905511e-02\n",
            "  1.74785908e-02  6.50606072e-03 -9.77463573e-02  3.30288559e-02\n",
            " -4.43826877e-02 -3.74223813e-02 -2.16180924e-03  7.03977942e-02\n",
            " -9.57000349e-03  5.05924858e-02  7.00502936e-03  8.37511420e-02\n",
            " -1.21618556e-02  1.19162992e-01  1.07901422e-02 -5.38168736e-02\n",
            "  1.12467751e-01 -1.08820796e-02  1.63636096e-02 -5.14592830e-05\n",
            " -4.17354591e-02  7.18627917e-03 -2.69534881e-03 -1.49069186e-02\n",
            "  2.03158222e-02 -8.43877494e-02 -3.87459211e-02  2.90397238e-02\n",
            "  5.90979941e-02  6.39730394e-02  8.23462903e-02  3.42279188e-02\n",
            "  8.22558179e-02 -1.18904747e-02  6.28794208e-02  4.99524875e-03\n",
            "  1.14314649e-02  1.47624435e-02 -2.24324502e-03  7.69858435e-02\n",
            " -2.93381931e-03  1.89186856e-02  9.73807927e-03  1.48537848e-02]\n"
          ]
        }
      ],
      "source": [
        "# Tokenize the text data\n",
        "tokenized_text = df['text'].apply(lambda x: word_tokenize(x.lower()))\n",
        "\n",
        "# Train Word2Vec model\n",
        "word2vec_model = Word2Vec(sentences=tokenized_text, vector_size=100, window=5, min_count=1, sg=0)\n",
        "\n",
        "# Get the Word2Vec embeddings for each word in the vocabulary\n",
        "word_embeddings = {word: word2vec_model.wv[word] for word in word2vec_model.wv.key_to_index}\n",
        "\n",
        "# Display the Word2Vec embeddings for a few words\n",
        "print(word_embeddings['car'])"
      ]
    }
  ],
  "metadata": {
    "colab": {
      "provenance": []
    },
    "kernelspec": {
      "display_name": "Python 3",
      "language": "python",
      "name": "python3"
    },
    "language_info": {
      "name": "python",
      "version": "3.11.4"
    }
  },
  "nbformat": 4,
  "nbformat_minor": 0
}
