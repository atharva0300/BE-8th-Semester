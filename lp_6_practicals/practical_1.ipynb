{
 "cells": [
  {
   "cell_type": "code",
   "execution_count": 5,
   "metadata": {},
   "outputs": [
    {
     "name": "stdout",
     "output_type": "stream",
     "text": [
      "Requirement already satisfied: nltk in c:\\users\\athar\\appdata\\local\\programs\\python\\python311\\lib\\site-packages (3.8.1)\n",
      "Requirement already satisfied: click in c:\\users\\athar\\appdata\\local\\programs\\python\\python311\\lib\\site-packages (from nltk) (8.1.7)\n",
      "Requirement already satisfied: joblib in c:\\users\\athar\\appdata\\local\\programs\\python\\python311\\lib\\site-packages (from nltk) (1.3.2)\n",
      "Requirement already satisfied: regex>=2021.8.3 in c:\\users\\athar\\appdata\\local\\programs\\python\\python311\\lib\\site-packages (from nltk) (2023.12.25)\n",
      "Requirement already satisfied: tqdm in c:\\users\\athar\\appdata\\local\\programs\\python\\python311\\lib\\site-packages (from nltk) (4.66.2)\n",
      "Requirement already satisfied: colorama in c:\\users\\athar\\appdata\\local\\programs\\python\\python311\\lib\\site-packages (from click->nltk) (0.4.6)\n",
      "Note: you may need to restart the kernel to use updated packages.\n"
     ]
    },
    {
     "name": "stderr",
     "output_type": "stream",
     "text": [
      "\n",
      "[notice] A new release of pip is available: 23.1.2 -> 24.0\n",
      "[notice] To update, run: python.exe -m pip install --upgrade pip\n"
     ]
    }
   ],
   "source": [
    "pip install nltk"
   ]
  },
  {
   "cell_type": "code",
   "execution_count": 6,
   "metadata": {},
   "outputs": [],
   "source": [
    "import nltk\n",
    "from nltk.tokenize import word_tokenize, TreebankWordTokenizer, TweetTokenizer\n",
    "from nltk.tokenize import MWETokenizer\n",
    "from nltk.stem import PorterStemmer, SnowballStemmer\n",
    "from nltk.stem.wordnet import WordNetLemmatizer\n"
   ]
  },
  {
   "cell_type": "code",
   "execution_count": 7,
   "metadata": {},
   "outputs": [
    {
     "name": "stderr",
     "output_type": "stream",
     "text": [
      "[nltk_data] Downloading package wordnet to\n",
      "[nltk_data]     C:\\Users\\athar\\AppData\\Roaming\\nltk_data...\n"
     ]
    },
    {
     "data": {
      "text/plain": [
       "True"
      ]
     },
     "execution_count": 7,
     "metadata": {},
     "output_type": "execute_result"
    }
   ],
   "source": [
    "nltk.download('wordnet')"
   ]
  },
  {
   "cell_type": "code",
   "execution_count": 8,
   "metadata": {},
   "outputs": [],
   "source": [
    "# Sample sentence\n",
    "sentence = \"NLTK is a powerful library for natural language processing tasks.\"\n",
    "\n",
    "# Whitespace tokenizer\n",
    "tokens_ws = sentence.split()\n",
    "\n",
    "# Punctuation-based tokenizer\n",
    "tokens_punct = nltk.word_tokenize(sentence)\n",
    "\n",
    "# Treebank tokenizer\n",
    "treebank_tokenizer = TreebankWordTokenizer()\n",
    "tokens_treebank = treebank_tokenizer.tokenize(sentence)\n",
    "\n",
    "# Tweet tokenizer\n",
    "tweet_tokenizer = TweetTokenizer()\n",
    "tokens_tweet = tweet_tokenizer.tokenize(sentence)\n",
    "\n",
    "# MWE tokenizer\n",
    "mwe_tokenizer = MWETokenizer([('natural', 'language'), ('processing', 'tasks')])\n",
    "tokens_mwe = mwe_tokenizer.tokenize(sentence.split())\n",
    "\n",
    "# Porter stemmer\n",
    "porter_stemmer = PorterStemmer()\n",
    "stem_porter = [porter_stemmer.stem(token) for token in tokens_punct]\n",
    "\n",
    "# Snowball stemmer\n",
    "snowball_stemmer = SnowballStemmer(language='english')\n",
    "stem_snowball = [snowball_stemmer.stem(token) for token in tokens_punct]\n",
    "\n",
    "# Lemmatization using WordNet\n",
    "lemmatizer = WordNetLemmatizer()\n",
    "lemma_wordnet = [lemmatizer.lemmatize(token) for token in tokens_punct]"
   ]
  },
  {
   "cell_type": "code",
   "execution_count": 9,
   "metadata": {},
   "outputs": [
    {
     "name": "stdout",
     "output_type": "stream",
     "text": [
      "Original Sentence: NLTK is a powerful library for natural language processing tasks.\n",
      "\n",
      "Tokenization:\n",
      "Whitespace Tokenizer: ['NLTK', 'is', 'a', 'powerful', 'library', 'for', 'natural', 'language', 'processing', 'tasks.']\n",
      "Punctuation-based Tokenizer: ['NLTK', 'is', 'a', 'powerful', 'library', 'for', 'natural', 'language', 'processing', 'tasks', '.']\n",
      "Treebank Tokenizer: ['NLTK', 'is', 'a', 'powerful', 'library', 'for', 'natural', 'language', 'processing', 'tasks', '.']\n",
      "Tweet Tokenizer: ['NLTK', 'is', 'a', 'powerful', 'library', 'for', 'natural', 'language', 'processing', 'tasks', '.']\n",
      "MWE Tokenizer: ['NLTK', 'is', 'a', 'powerful', 'library', 'for', 'natural_language', 'processing', 'tasks.']\n",
      "\n",
      "Stemming:\n",
      "Porter Stemmer: ['nltk', 'is', 'a', 'power', 'librari', 'for', 'natur', 'languag', 'process', 'task', '.']\n",
      "Snowball Stemmer: ['nltk', 'is', 'a', 'power', 'librari', 'for', 'natur', 'languag', 'process', 'task', '.']\n",
      "\n",
      "Lemmatization:\n",
      "WordNet Lemmatizer: ['NLTK', 'is', 'a', 'powerful', 'library', 'for', 'natural', 'language', 'processing', 'task', '.']\n"
     ]
    }
   ],
   "source": [
    "print(\"Original Sentence:\", sentence)\n",
    "print(\"\\nTokenization:\")\n",
    "print(\"Whitespace Tokenizer:\", tokens_ws)\n",
    "print(\"Punctuation-based Tokenizer:\", tokens_punct)\n",
    "print(\"Treebank Tokenizer:\", tokens_treebank)\n",
    "print(\"Tweet Tokenizer:\", tokens_tweet)\n",
    "print(\"MWE Tokenizer:\", tokens_mwe)\n",
    "print(\"\\nStemming:\")\n",
    "print(\"Porter Stemmer:\", stem_porter)\n",
    "print(\"Snowball Stemmer:\", stem_snowball)\n",
    "print(\"\\nLemmatization:\")\n",
    "print(\"WordNet Lemmatizer:\", lemma_wordnet)"
   ]
  }
 ],
 "metadata": {
  "kernelspec": {
   "display_name": "Python 3",
   "language": "python",
   "name": "python3"
  },
  "language_info": {
   "codemirror_mode": {
    "name": "ipython",
    "version": 3
   },
   "file_extension": ".py",
   "mimetype": "text/x-python",
   "name": "python",
   "nbconvert_exporter": "python",
   "pygments_lexer": "ipython3",
   "version": "3.11.4"
  }
 },
 "nbformat": 4,
 "nbformat_minor": 2
}
