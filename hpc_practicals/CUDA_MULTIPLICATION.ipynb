{
  "nbformat": 4,
  "nbformat_minor": 0,
  "metadata": {
    "colab": {
      "provenance": []
    },
    "kernelspec": {
      "name": "python3",
      "display_name": "Python 3"
    },
    "language_info": {
      "name": "python"
    }
  },
  "cells": [
    {
      "cell_type": "code",
      "source": [],
      "metadata": {
        "id": "4sMdCT8bFk2q"
      },
      "execution_count": null,
      "outputs": []
    },
    {
      "cell_type": "code",
      "execution_count": null,
      "metadata": {
        "colab": {
          "base_uri": "https://localhost:8080/"
        },
        "id": "p8lm7ZaMLLFL",
        "outputId": "12f5530f-b4d2-4193-ba25-62d5cd773249"
      },
      "outputs": [
        {
          "output_type": "stream",
          "name": "stdout",
          "text": [
            "Writing mat2.cu\n"
          ]
        }
      ],
      "source": [
        "%%writefile mat2.cu\n",
        "#include <cuda_runtime.h>\n",
        "#include <iostream>\n",
        "__global__ void matmul(int* A, int* B, int* C, int N)\n",
        " {\n",
        "int Row = blockIdx.y*blockDim.y+threadIdx.y;\n",
        "int Col = blockIdx.x*blockDim.x+threadIdx.x;\n",
        "if (Row < N && Col < N)\n",
        " {\n",
        "int Pvalue = 0;\n",
        "for (int k = 0; k < N; k++)\n",
        " {\n",
        "Pvalue += A[Row*N+k] * B[k*N+Col];\n",
        "}\n",
        "C[Row*N+Col] = Pvalue;\n",
        "}\n",
        "}\n",
        "int main()\n",
        "{\n",
        "int N = 16;\n",
        "int size = N * N * sizeof(int);\n",
        "int* A, * B, * C;\n",
        "int* dev_A, * dev_B, * dev_C;\n",
        "cudaMallocHost(&A, size);\n",
        "cudaMallocHost(&B, size);\n",
        "cudaMallocHost(&C, size);\n",
        "cudaMalloc(&dev_A, size);\n",
        "cudaMalloc(&dev_B, size);\n",
        "cudaMalloc(&dev_C, size);\n",
        "// Initialize matrices A and B\n",
        "for (int i = 0; i < N; i++)\n",
        " {\n",
        "for (int j = 0; j < N; j++)\n",
        " {\n",
        "A[i*N+j] = 2;\n",
        "B[i*N+j] = 2;\n",
        "}\n",
        "}\n",
        "cudaMemcpy(dev_A, A, size,cudaMemcpyHostToDevice);\n",
        "cudaMemcpy(dev_B, B, size,cudaMemcpyHostToDevice);\n",
        "dim3 dimBlock(4, 4);\n",
        "dim3 dimGrid(N/dimBlock.x, N/dimBlock.y);\n",
        "matmul<<<dimGrid, dimBlock>>>(dev_A, dev_B,dev_C, N);\n",
        "cudaMemcpy(C,dev_C,size,cudaMemcpyHostToDevice); // Print the result\n",
        "for (int i = 0; i < N; i++)\n",
        " {\n",
        "for (int j = 0; j < N; j++)\n",
        "{\n",
        "std::cout << C[i*N+j] << \" \";\n",
        "}\n",
        "std::cout << std::endl;\n",
        "}\n",
        "// Free memory\n",
        "cudaFree(dev_A);\n",
        "cudaFree(dev_B);\n",
        "cudaFree(dev_C);\n",
        "cudaFreeHost(A);\n",
        "cudaFreeHost(B);\n",
        "cudaFreeHost(C);\n",
        "return 0;\n",
        "}"
      ]
    },
    {
      "cell_type": "code",
      "source": [
        "!rm -rf /usr/local/cuda\n",
        "!ln -s /usr/local/cuda-12.2 /usr/local/cuda\n",
        "!nvcc mat2.cu -o mat"
      ],
      "metadata": {
        "id": "t2IUUwZfLZyo"
      },
      "execution_count": null,
      "outputs": []
    },
    {
      "cell_type": "code",
      "source": [
        "!./mat"
      ],
      "metadata": {
        "colab": {
          "base_uri": "https://localhost:8080/"
        },
        "id": "vs9cQmEgLc1u",
        "outputId": "cafc47ce-b242-4ee5-8307-c69324b8b63a"
      },
      "execution_count": null,
      "outputs": [
        {
          "output_type": "stream",
          "name": "stdout",
          "text": [
            "64 64 64 64 64 64 64 64 64 64 64 64 64 64 64 64 \n",
            "64 64 64 64 64 64 64 64 64 64 64 64 64 64 64 64 \n",
            "64 64 64 64 64 64 64 64 64 64 64 64 64 64 64 64 \n",
            "64 64 64 64 64 64 64 64 64 64 64 64 64 64 64 64 \n",
            "64 64 64 64 64 64 64 64 64 64 64 64 64 64 64 64 \n",
            "64 64 64 64 64 64 64 64 64 64 64 64 64 64 64 64 \n",
            "64 64 64 64 64 64 64 64 64 64 64 64 64 64 64 64 \n",
            "64 64 64 64 64 64 64 64 64 64 64 64 64 64 64 64 \n",
            "64 64 64 64 64 64 64 64 64 64 64 64 64 64 64 64 \n",
            "64 64 64 64 64 64 64 64 64 64 64 64 64 64 64 64 \n",
            "64 64 64 64 64 64 64 64 64 64 64 64 64 64 64 64 \n",
            "64 64 64 64 64 64 64 64 64 64 64 64 64 64 64 64 \n",
            "64 64 64 64 64 64 64 64 64 64 64 64 64 64 64 64 \n",
            "64 64 64 64 64 64 64 64 64 64 64 64 64 64 64 64 \n",
            "64 64 64 64 64 64 64 64 64 64 64 64 64 64 64 64 \n",
            "64 64 64 64 64 64 64 64 64 64 64 64 64 64 64 64 \n"
          ]
        }
      ]
    },
    {
      "cell_type": "code",
      "source": [],
      "metadata": {
        "id": "C16SQAH4LfcX"
      },
      "execution_count": null,
      "outputs": []
    }
  ]
}