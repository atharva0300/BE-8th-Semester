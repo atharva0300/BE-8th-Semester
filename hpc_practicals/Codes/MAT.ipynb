{
  "cells": [
    {
      "cell_type": "code",
      "execution_count": null,
      "metadata": {
        "colab": {
          "base_uri": "https://localhost:8080/"
        },
        "id": "Q4djS7-3bmkD",
        "outputId": "88202c31-733e-408a-cf4e-18321db9b05f"
      },
      "outputs": [],
      "source": [
        "!python --version\n",
        "!nvcc --version\n",
        "!pip install nvcc4jupyter\n",
        "%load_ext nvcc4jupyter"
      ]
    },
    {
      "cell_type": "code",
      "execution_count": null,
      "metadata": {
        "colab": {
          "base_uri": "https://localhost:8080/"
        },
        "id": "2qFcbQz4a1Nt",
        "outputId": "6fd3a52b-6db7-42d2-f760-243c8d3062f2"
      },
      "outputs": [],
      "source": [
        "%%cuda\n",
        "\n",
        "#include <cuda_runtime.h>\n",
        "#include <iostream>\n",
        "\n",
        "__global__ void matmul(int* A, int* B, int* C, int N) {\n",
        "    int Row = blockIdx.y*blockDim.y+threadIdx.y;\n",
        "    int Col = blockIdx.x*blockDim.x+threadIdx.x;\n",
        "    if (Row < N && Col < N) {\n",
        "        int Pvalue = 0;\n",
        "        for (int k = 0; k < N; k++) {\n",
        "            Pvalue += A[Row*N+k] * B[k*N+Col];\n",
        "        }\n",
        "        C[Row*N+Col] = Pvalue;\n",
        "    }\n",
        "}\n",
        "\n",
        "\n",
        "int main() {\n",
        "    std::cout<<\"This is Atharva Pingale's code.\\n\";\n",
        "    std::cout<<\"Practical 4\\n\";\n",
        "    int N = 16;\n",
        "    int size = N * N * sizeof(int);\n",
        "    int* A, * B, * C;\n",
        "    int* dev_A, * dev_B, * dev_C;\n",
        "    cudaMallocHost(&A, size);\n",
        "    cudaMallocHost(&B, size);\n",
        "    cudaMallocHost(&C, size);\n",
        "    cudaMalloc(&dev_A, size);\n",
        "    cudaMalloc(&dev_B, size);\n",
        "    cudaMalloc(&dev_C, size);\n",
        "    // C.NotebookApp.iopub_data_rate_limit = 10000000\n",
        "\n",
        "\n",
        "    // Initialize matrices A and B\n",
        "    for (int i = 0; i < N; i++) {\n",
        "        for (int j = 0; j < N; j++) {\n",
        "            A[i*N+j] = i*N*j+1;\n",
        "            B[i*N+j] = j*N*i+1;\n",
        "        }\n",
        "    }\n",
        "\n",
        "\n",
        "    std::cout<<\"\\nPrinting A: \";\n",
        "    std::cout<<\"\\n\";\n",
        "    for(int i=0;i<N;i++){\n",
        "        for(int j=0;j<N;j++){\n",
        "          std::cout<<A[i*N+j]<<\" \";\n",
        "        }\n",
        "        std::cout<<\"\\n\";\n",
        "    }\n",
        "    std::cout<<\"\\n\";\n",
        "\n",
        "    std::cout<<\"\\nPrinting B : \";\n",
        "    std::cout<<\"\\n\";\n",
        "    for(int i=0;i<N;i++){\n",
        "        for(int j=0;j<N;j++){\n",
        "            std::cout<<B[i*N+j]<<\" \";\n",
        "        }\n",
        "        std::cout<<\"\\n\";\n",
        "\n",
        "    }\n",
        "    std::cout<<\"\\n\";\n",
        "\n",
        "\n",
        "    cudaMemcpy(dev_A, A, size, cudaMemcpyHostToDevice);\n",
        "    cudaMemcpy(dev_B, B, size, cudaMemcpyHostToDevice);\n",
        "\n",
        "    dim3 dimBlock(16, 16);\n",
        "    dim3 dimGrid(N/dimBlock.x, N/dimBlock.y);\n",
        "\n",
        "    matmul<<<dimGrid, dimBlock>>>(dev_A, dev_B, dev_C, N);\n",
        "\n",
        "    cudaMemcpy(C, dev_C, size, cudaMemcpyDeviceToHost);\n",
        "\n",
        "    // Print the result\n",
        "    std::cout<<\"\\nPrinting C ( Result ) : \";\n",
        "    std::cout<<\"\\n\";\n",
        "    for (int i = 0; i < N; i++) {\n",
        "        for (int j = 0; j < N; j++) {\n",
        "            std::cout << C[i*N+j] << \" \";\n",
        "        }\n",
        "        std::cout << std::endl;\n",
        "    }\n",
        "\n",
        "    // Free memory\n",
        "    cudaFree(dev_A);\n",
        "    cudaFree(dev_B);\n",
        "    cudaFree(dev_C);\n",
        "    cudaFreeHost(A);\n",
        "    cudaFreeHost(B);\n",
        "    cudaFreeHost(C);\n",
        "\n",
        "    return 0;\n",
        "}\n",
        "\n"
      ]
    },
    {
      "cell_type": "code",
      "execution_count": null,
      "metadata": {
        "id": "yMeBI_jbb9nC"
      },
      "outputs": [],
      "source": []
    }
  ],
  "metadata": {
    "accelerator": "GPU",
    "colab": {
      "gpuType": "T4",
      "provenance": []
    },
    "kernelspec": {
      "display_name": "Python 3",
      "name": "python3"
    },
    "language_info": {
      "name": "python"
    }
  },
  "nbformat": 4,
  "nbformat_minor": 0
}
