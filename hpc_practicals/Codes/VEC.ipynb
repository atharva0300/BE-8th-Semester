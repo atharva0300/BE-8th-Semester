{
  "cells": [
    {
      "cell_type": "code",
      "execution_count": null,
      "metadata": {
        "colab": {
          "base_uri": "https://localhost:8080/"
        },
        "id": "AQUxKae23FTz",
        "outputId": "58ce7e5d-079b-40c5-c51a-d111aba2013d"
      },
      "outputs": [],
      "source": [
        "!python --version\n",
        "!nvcc --version\n",
        "!pip install nvcc4jupyter\n",
        "%load_ext nvcc4jupyter"
      ]
    },
    {
      "cell_type": "code",
      "execution_count": null,
      "metadata": {
        "colab": {
          "base_uri": "https://localhost:8080/"
        },
        "id": "to7nSkxs3GJY",
        "outputId": "3cbb5dc6-3251-43d0-c1d0-072f64efb3a7"
      },
      "outputs": [],
      "source": [
        "%%cuda\n",
        "#include <iostream>\n",
        "#include <cuda_runtime.h>\n",
        "\n",
        "__global__ void addVectors(int* A, int* B, int* C, int n)\n",
        "{\n",
        "    int i = blockIdx.x * blockDim.x + threadIdx.x;\n",
        "    if (i < n)\n",
        "    {\n",
        "        C[i] = A[i] + B[i];\n",
        "    }\n",
        "}\n",
        "\n",
        "int main()\n",
        "{\n",
        "    std::cout<<\"This is Atharva Pingale's code\";\n",
        "    std::cout<<\"\\nPractical 4 : Vector Addition\\n\";\n",
        "    int n = 1000000;\n",
        "    int* A, * B, * C;\n",
        "    int size = n * sizeof(int);\n",
        "\n",
        "    // Allocate memory on the host\n",
        "    cudaMallocHost(&A, size);\n",
        "    cudaMallocHost(&B, size);\n",
        "    cudaMallocHost(&C, size);\n",
        "\n",
        "    // Initialize the vectors\n",
        "    for (int i = 0; i < n; i++)\n",
        "    {\n",
        "        A[i] = i * 2 * 10;\n",
        "        B[i] = i * 3 * 12;\n",
        "    }\n",
        "\n",
        "\n",
        "    // Printing the vectors\n",
        "    std::cout<<\"\\nPrinting Vector A ( first 20 elements ): \";\n",
        "    std::cout<<\"\\n\";\n",
        "    for(int i=0;i<20;i++){\n",
        "        std::cout<<A[i]<<\" \";\n",
        "    }\n",
        "    std::cout<<\"\\n\";\n",
        "\n",
        "    std::cout<<\"\\nPrinting Vector B ( first 20 elements ) : \";\n",
        "    std::cout<<\"\\n\";\n",
        "    for(int i=0;i<20;i++){\n",
        "        std::cout<<B[i]<<\" \";\n",
        "    }\n",
        "    std::cout<<\"\\n\";\n",
        "\n",
        "\n",
        "    // Allocate memory on the device\n",
        "    int* dev_A, * dev_B, * dev_C;\n",
        "    cudaMalloc(&dev_A, size);\n",
        "    cudaMalloc(&dev_B, size);\n",
        "    cudaMalloc(&dev_C, size);\n",
        "\n",
        "    // Copy data from host to device\n",
        "    cudaMemcpy(dev_A, A, size, cudaMemcpyHostToDevice);\n",
        "    cudaMemcpy(dev_B, B, size, cudaMemcpyHostToDevice);\n",
        "\n",
        "    // Launch the kernel\n",
        "    int blockSize = 256;\n",
        "    int numBlocks = (n + blockSize - 1) / blockSize;\n",
        "    addVectors<<<numBlocks, blockSize>>>(dev_A, dev_B, dev_C, n);\n",
        "\n",
        "    // Copy data from device to host\n",
        "    cudaMemcpy(C, dev_C, size, cudaMemcpyDeviceToHost);\n",
        "\n",
        "    // Print the results\n",
        "    std::cout<<\"\\nPrinting Result Vector C ( first 20 elements ): \";\n",
        "    std::cout<<\"\\n\";\n",
        "    for (int i = 0; i < 20; i++)\n",
        "    {\n",
        "        std::cout << C[i] << \" \";\n",
        "    }\n",
        "    std::cout<<\"\\n\";\n",
        "\n",
        "    // Free memory\n",
        "    cudaFree(dev_A);\n",
        "    cudaFree(dev_B);\n",
        "    cudaFree(dev_C);\n",
        "    cudaFreeHost(A);\n",
        "    cudaFreeHost(B);\n",
        "    cudaFreeHost(C);\n",
        "\n",
        "    return 0;\n",
        "}"
      ]
    },
    {
      "cell_type": "code",
      "execution_count": null,
      "metadata": {
        "id": "RD1o_akW3cIy"
      },
      "outputs": [],
      "source": []
    }
  ],
  "metadata": {
    "accelerator": "GPU",
    "colab": {
      "gpuType": "T4",
      "provenance": []
    },
    "kernelspec": {
      "display_name": "Python 3",
      "name": "python3"
    },
    "language_info": {
      "name": "python"
    }
  },
  "nbformat": 4,
  "nbformat_minor": 0
}
