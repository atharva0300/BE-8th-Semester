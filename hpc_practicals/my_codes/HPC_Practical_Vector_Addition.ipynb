{
  "nbformat": 4,
  "nbformat_minor": 0,
  "metadata": {
    "colab": {
      "provenance": [],
      "gpuType": "T4",
      "authorship_tag": "ABX9TyN14o5Vlcli2sKtBv9YO5wK",
      "include_colab_link": true
    },
    "kernelspec": {
      "name": "python3",
      "display_name": "Python 3"
    },
    "language_info": {
      "name": "python"
    },
    "accelerator": "GPU"
  },
  "cells": [
    {
      "cell_type": "markdown",
      "metadata": {
        "id": "view-in-github",
        "colab_type": "text"
      },
      "source": [
        "<a href=\"https://colab.research.google.com/github/atharva0300/BE-8th-Semester/blob/main/hpc_practicals/my_codes/HPC_Practical_Vector_Addition.ipynb\" target=\"_parent\"><img src=\"https://colab.research.google.com/assets/colab-badge.svg\" alt=\"Open In Colab\"/></a>"
      ]
    },
    {
      "cell_type": "code",
      "execution_count": 1,
      "metadata": {
        "colab": {
          "base_uri": "https://localhost:8080/"
        },
        "id": "AQUxKae23FTz",
        "outputId": "58ce7e5d-079b-40c5-c51a-d111aba2013d"
      },
      "outputs": [
        {
          "output_type": "stream",
          "name": "stdout",
          "text": [
            "Python 3.10.12\n",
            "nvcc: NVIDIA (R) Cuda compiler driver\n",
            "Copyright (c) 2005-2023 NVIDIA Corporation\n",
            "Built on Tue_Aug_15_22:02:13_PDT_2023\n",
            "Cuda compilation tools, release 12.2, V12.2.140\n",
            "Build cuda_12.2.r12.2/compiler.33191640_0\n",
            "Collecting nvcc4jupyter\n",
            "  Downloading nvcc4jupyter-1.2.1-py3-none-any.whl (10 kB)\n",
            "Installing collected packages: nvcc4jupyter\n",
            "Successfully installed nvcc4jupyter-1.2.1\n",
            "Detected platform \"Colab\". Running its setup...\n",
            "Source files will be saved in \"/tmp/tmpxzovgo81\".\n"
          ]
        }
      ],
      "source": [
        "!python --version\n",
        "!nvcc --version\n",
        "!pip install nvcc4jupyter\n",
        "%load_ext nvcc4jupyter"
      ]
    },
    {
      "cell_type": "code",
      "source": [
        "%%cuda\n",
        "#include <iostream>\n",
        "#include <cuda_runtime.h>\n",
        "\n",
        "__global__ void addVectors(int* A, int* B, int* C, int n)\n",
        "{\n",
        "    int i = blockIdx.x * blockDim.x + threadIdx.x;\n",
        "    if (i < n)\n",
        "    {\n",
        "        C[i] = A[i] + B[i];\n",
        "    }\n",
        "}\n",
        "\n",
        "int main()\n",
        "{\n",
        "    std::cout<<\"This is Atharva Pingale's code\";\n",
        "    std::cout<<\"\\nPractical 4 : Vector Addition\\n\";\n",
        "    int n = 1000000;\n",
        "    int* A, * B, * C;\n",
        "    int size = n * sizeof(int);\n",
        "\n",
        "    // Allocate memory on the host\n",
        "    cudaMallocHost(&A, size);\n",
        "    cudaMallocHost(&B, size);\n",
        "    cudaMallocHost(&C, size);\n",
        "\n",
        "    // Initialize the vectors\n",
        "    for (int i = 0; i < n; i++)\n",
        "    {\n",
        "        A[i] = i * 2 * 10;\n",
        "        B[i] = i * 3 * 12;\n",
        "    }\n",
        "\n",
        "\n",
        "    // Printing the vectors\n",
        "    std::cout<<\"\\nPrinting Vector A ( first 20 elements ): \";\n",
        "    std::cout<<\"\\n\";\n",
        "    for(int i=0;i<20;i++){\n",
        "        std::cout<<A[i]<<\" \";\n",
        "    }\n",
        "    std::cout<<\"\\n\";\n",
        "\n",
        "    std::cout<<\"\\nPrinting Vector B ( first 20 elements ) : \";\n",
        "    std::cout<<\"\\n\";\n",
        "    for(int i=0;i<20;i++){\n",
        "        std::cout<<B[i]<<\" \";\n",
        "    }\n",
        "    std::cout<<\"\\n\";\n",
        "\n",
        "\n",
        "    // Allocate memory on the device\n",
        "    int* dev_A, * dev_B, * dev_C;\n",
        "    cudaMalloc(&dev_A, size);\n",
        "    cudaMalloc(&dev_B, size);\n",
        "    cudaMalloc(&dev_C, size);\n",
        "\n",
        "    // Copy data from host to device\n",
        "    cudaMemcpy(dev_A, A, size, cudaMemcpyHostToDevice);\n",
        "    cudaMemcpy(dev_B, B, size, cudaMemcpyHostToDevice);\n",
        "\n",
        "    // Launch the kernel\n",
        "    int blockSize = 256;\n",
        "    int numBlocks = (n + blockSize - 1) / blockSize;\n",
        "    addVectors<<<numBlocks, blockSize>>>(dev_A, dev_B, dev_C, n);\n",
        "\n",
        "    // Copy data from device to host\n",
        "    cudaMemcpy(C, dev_C, size, cudaMemcpyDeviceToHost);\n",
        "\n",
        "    // Print the results\n",
        "    std::cout<<\"\\nPrinting Result Vector C ( first 20 elements ): \";\n",
        "    std::cout<<\"\\n\";\n",
        "    for (int i = 0; i < 20; i++)\n",
        "    {\n",
        "        std::cout << C[i] << \" \";\n",
        "    }\n",
        "    std::cout<<\"\\n\";\n",
        "\n",
        "    // Free memory\n",
        "    cudaFree(dev_A);\n",
        "    cudaFree(dev_B);\n",
        "    cudaFree(dev_C);\n",
        "    cudaFreeHost(A);\n",
        "    cudaFreeHost(B);\n",
        "    cudaFreeHost(C);\n",
        "\n",
        "    return 0;\n",
        "}"
      ],
      "metadata": {
        "colab": {
          "base_uri": "https://localhost:8080/"
        },
        "id": "to7nSkxs3GJY",
        "outputId": "3cbb5dc6-3251-43d0-c1d0-072f64efb3a7"
      },
      "execution_count": 14,
      "outputs": [
        {
          "output_type": "stream",
          "name": "stdout",
          "text": [
            "This is Atharva Pingale's code\n",
            "Practical 4 : Vector Addition\n",
            "\n",
            "Printing Vector A ( first 20 elements ): \n",
            "0 20 40 60 80 100 120 140 160 180 200 220 240 260 280 300 320 340 360 380 \n",
            "\n",
            "Printing Vector B ( first 20 elements ) : \n",
            "0 36 72 108 144 180 216 252 288 324 360 396 432 468 504 540 576 612 648 684 \n",
            "\n",
            "Printing Result Vector C ( first 20 elements ): \n",
            "0 56 112 168 224 280 336 392 448 504 560 616 672 728 784 840 896 952 1008 1064 \n",
            "\n"
          ]
        }
      ]
    },
    {
      "cell_type": "code",
      "source": [],
      "metadata": {
        "id": "RD1o_akW3cIy"
      },
      "execution_count": null,
      "outputs": []
    }
  ]
}