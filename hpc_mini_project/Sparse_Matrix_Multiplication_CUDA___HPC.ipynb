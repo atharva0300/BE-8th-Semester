{
  "nbformat": 4,
  "nbformat_minor": 0,
  "metadata": {
    "colab": {
      "provenance": [],
      "gpuType": "T4",
      "authorship_tag": "ABX9TyNAlVxILj5sjX2mEStpswwi",
      "include_colab_link": true
    },
    "kernelspec": {
      "name": "python3",
      "display_name": "Python 3"
    },
    "language_info": {
      "name": "python"
    },
    "accelerator": "GPU"
  },
  "cells": [
    {
      "cell_type": "markdown",
      "metadata": {
        "id": "view-in-github",
        "colab_type": "text"
      },
      "source": [
        "<a href=\"https://colab.research.google.com/github/atharva0300/BE-8th-Semester/blob/main/hpc_mini_project/Sparse_Matrix_Multiplication_CUDA___HPC.ipynb\" target=\"_parent\"><img src=\"https://colab.research.google.com/assets/colab-badge.svg\" alt=\"Open In Colab\"/></a>"
      ]
    },
    {
      "cell_type": "code",
      "source": [
        "pip install nvcc4jupyter"
      ],
      "metadata": {
        "colab": {
          "base_uri": "https://localhost:8080/"
        },
        "id": "61R__s0m0lrB",
        "outputId": "e1c88c96-7020-4fd6-c0f4-238d472130b3"
      },
      "execution_count": 7,
      "outputs": [
        {
          "output_type": "stream",
          "name": "stdout",
          "text": [
            "Requirement already satisfied: nvcc4jupyter in /usr/local/lib/python3.10/dist-packages (1.1.0)\n"
          ]
        }
      ]
    },
    {
      "cell_type": "code",
      "source": [
        "%load_ext nvcc4jupyter"
      ],
      "metadata": {
        "colab": {
          "base_uri": "https://localhost:8080/"
        },
        "id": "jSozS3Bd0orU",
        "outputId": "d56d5519-63df-4761-b698-3a26a448830d"
      },
      "execution_count": 8,
      "outputs": [
        {
          "output_type": "stream",
          "name": "stdout",
          "text": [
            "The nvcc4jupyter extension is already loaded. To reload it, use:\n",
            "  %reload_ext nvcc4jupyter\n"
          ]
        }
      ]
    },
    {
      "cell_type": "code",
      "source": [
        "!update-alternatives --install /usr/bin/gcc gcc /usr/bin/gcc-7 60 --slave /usr/bin/g++ g++ /usr/bin/g++-7\n"
      ],
      "metadata": {
        "colab": {
          "base_uri": "https://localhost:8080/"
        },
        "id": "-WYgWDDP1J_v",
        "outputId": "30054e48-d754-45bb-d7bb-2e010168d02d"
      },
      "execution_count": 10,
      "outputs": [
        {
          "output_type": "stream",
          "name": "stdout",
          "text": [
            "update-alternatives: error: alternative path /usr/bin/gcc-7 doesn't exist\n"
          ]
        }
      ]
    },
    {
      "cell_type": "code",
      "source": [
        "!gcc --version\n"
      ],
      "metadata": {
        "colab": {
          "base_uri": "https://localhost:8080/"
        },
        "id": "KBLmzv4Z1LqZ",
        "outputId": "6c29347d-b056-4fdb-a256-beddbefee11e"
      },
      "execution_count": 11,
      "outputs": [
        {
          "output_type": "stream",
          "name": "stdout",
          "text": [
            "gcc (Ubuntu 11.4.0-1ubuntu1~22.04) 11.4.0\n",
            "Copyright (C) 2021 Free Software Foundation, Inc.\n",
            "This is free software; see the source for copying conditions.  There is NO\n",
            "warranty; not even for MERCHANTABILITY or FITNESS FOR A PARTICULAR PURPOSE.\n",
            "\n"
          ]
        }
      ]
    },
    {
      "cell_type": "code",
      "source": [],
      "metadata": {
        "id": "gPpuqCWq1brU"
      },
      "execution_count": 11,
      "outputs": []
    },
    {
      "cell_type": "code",
      "execution_count": 12,
      "metadata": {
        "colab": {
          "base_uri": "https://localhost:8080/"
        },
        "id": "Sq7XTqjFvRy1",
        "outputId": "7fe33ee2-c016-4f0b-c388-0b31e340eabf"
      },
      "outputs": [
        {
          "output_type": "stream",
          "name": "stdout",
          "text": [
            "Result matrix C:\n",
            "11 16 \n",
            "4 8 \n",
            "28 34 \n",
            "\n"
          ]
        }
      ],
      "source": [
        "%%cuda\n",
        "#include <iostream>\n",
        "#include <cuda_runtime.h>\n",
        "\n",
        "// CUDA kernel for sparse matrix multiplication\n",
        "__global__ void sparseMatrixMul(int *row_ptr, int *col_indices, float *values,\n",
        "                                float *B, float *C, int num_rows, int num_cols)\n",
        "{\n",
        "    int row = blockIdx.x * blockDim.x + threadIdx.x;\n",
        "    if (row < num_rows)\n",
        "    {\n",
        "        for (int i = row_ptr[row]; i < row_ptr[row + 1]; ++i)\n",
        "        {\n",
        "            int col = col_indices[i];\n",
        "            float val = values[i];\n",
        "            for (int k = 0; k < num_cols; ++k)\n",
        "            {\n",
        "                C[row * num_cols + k] += val * B[col * num_cols + k];\n",
        "            }\n",
        "        }\n",
        "    }\n",
        "}\n",
        "\n",
        "int main()\n",
        "{\n",
        "    // Assume A is a sparse matrix in CSR format\n",
        "    int row_ptr[4] = {0, 2, 3, 5};\n",
        "    int col_indices[5] = {0, 1, 0, 1, 2};\n",
        "    float values[5] = {2.0, 3.0, 4.0, 1.0, 5.0};\n",
        "\n",
        "    // Assume B is a dense matrix\n",
        "    float B[6] = {1, 2, 3, 4, 5, 6};\n",
        "\n",
        "    int num_rows = 3;\n",
        "    int num_cols = 2;\n",
        "\n",
        "    // Allocate memory for matrices A, B, and C on the device\n",
        "    int *d_row_ptr, *d_col_indices;\n",
        "    float *d_values, *d_B, *d_C;\n",
        "    cudaMalloc((void **)&d_row_ptr, (num_rows + 1) * sizeof(int));\n",
        "    cudaMalloc((void **)&d_col_indices, 5 * sizeof(int));\n",
        "    cudaMalloc((void **)&d_values, 5 * sizeof(float));\n",
        "    cudaMalloc((void **)&d_B, 6 * sizeof(float));\n",
        "    cudaMalloc((void **)&d_C, num_rows * num_cols * sizeof(float));\n",
        "\n",
        "    // Copy matrices A and B to the device\n",
        "    cudaMemcpy(d_row_ptr, row_ptr, (num_rows + 1) * sizeof(int), cudaMemcpyHostToDevice);\n",
        "    cudaMemcpy(d_col_indices, col_indices, 5 * sizeof(int), cudaMemcpyHostToDevice);\n",
        "    cudaMemcpy(d_values, values, 5 * sizeof(float), cudaMemcpyHostToDevice);\n",
        "    cudaMemcpy(d_B, B, 6 * sizeof(float), cudaMemcpyHostToDevice);\n",
        "\n",
        "    // Launch the kernel\n",
        "    sparseMatrixMul<<<1, num_rows>>>(d_row_ptr, d_col_indices, d_values, d_B, d_C, num_rows, num_cols);\n",
        "\n",
        "    // Copy the result matrix C back to the host\n",
        "    float C[num_rows * num_cols];\n",
        "    cudaMemcpy(C, d_C, num_rows * num_cols * sizeof(float), cudaMemcpyDeviceToHost);\n",
        "\n",
        "    // Print the result matrix C\n",
        "    std::cout << \"Result matrix C:\" << std::endl;\n",
        "    for (int i = 0; i < num_rows; ++i)\n",
        "    {\n",
        "        for (int j = 0; j < num_cols; ++j)\n",
        "        {\n",
        "            std::cout << C[i * num_cols + j] << \" \";\n",
        "        }\n",
        "        std::cout << std::endl;\n",
        "    }\n",
        "\n",
        "    // Free device memory\n",
        "    cudaFree(d_row_ptr);\n",
        "    cudaFree(d_col_indices);\n",
        "    cudaFree(d_values);\n",
        "    cudaFree(d_B);\n",
        "    cudaFree(d_C);\n",
        "\n",
        "    return 0;\n",
        "}\n"
      ]
    },
    {
      "cell_type": "code",
      "source": [],
      "metadata": {
        "id": "PQgwrGsHxuKY"
      },
      "execution_count": 12,
      "outputs": []
    }
  ]
}