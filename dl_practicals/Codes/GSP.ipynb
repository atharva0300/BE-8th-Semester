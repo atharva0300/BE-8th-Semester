{
  "cells": [
    {
      "cell_type": "code",
      "execution_count": null,
      "metadata": {
        "id": "qyaPm47D71WE"
      },
      "outputs": [],
      "source": [
        "import numpy as np\n",
        "import pandas as pd\n",
        "import matplotlib.pyplot as plt\n",
        "import seaborn as sns\n",
        "import warnings\n",
        "import datetime\n",
        "import seaborn as sns\n",
        "from sklearn.preprocessing import MinMaxScaler\n",
        "from sklearn.decomposition import PCA\n",
        "from sklearn.model_selection import train_test_split\n",
        "from tensorflow.keras import Sequential\n",
        "from tensorflow.keras.layers import Dense\n",
        "from tensorflow.keras.layers import LSTM\n",
        "from sklearn.metrics import r2_score"
      ]
    },
    {
      "cell_type": "code",
      "execution_count": null,
      "metadata": {
        "colab": {
          "base_uri": "https://localhost:8080/",
          "height": 424
        },
        "id": "Hykq2X0k7_3D",
        "outputId": "ef3713f9-9ef5-47e5-f844-5ae98d6682bd"
      },
      "outputs": [],
      "source": [
        "#data=pd.read_csv(\"/content/Google_Stock_Price_Train.csv\",index_col='Date',parse_dates=True)\n",
        "data=pd.read_csv(\"/content/Google_Stock_Price_Train.csv\")\n",
        "data"
      ]
    },
    {
      "cell_type": "code",
      "execution_count": null,
      "metadata": {
        "id": "DNhGxVZo8heO"
      },
      "outputs": [],
      "source": [
        "data['Close']=data['Close'].str.replace(',','').astype(float)\n",
        "data['Volume']=data['Volume'].str.replace(',','').astype(float)"
      ]
    },
    {
      "cell_type": "code",
      "execution_count": null,
      "metadata": {
        "colab": {
          "base_uri": "https://localhost:8080/",
          "height": 1000
        },
        "id": "5y-u7-XL8Ga0",
        "outputId": "cde73c6a-7180-44cb-f095-a6313ff20ef6"
      },
      "outputs": [],
      "source": [
        "\n",
        "ax1 = data.plot(x=\"Date\", y=[\"Open\", \"High\", \"Low\", \"Close\"],  figsize=(18,10),title='Open, High, Low, Close Stock Prices of Google Stocks')\n",
        "ax1.set_ylabel(\"Stock Price\")\n",
        "\n",
        "ax2 = data.plot(x=\"Date\", y=[\"Volume\"],  figsize=(18,9))\n",
        "ax2.set_ylabel(\"Stock Volume\")"
      ]
    },
    {
      "cell_type": "code",
      "execution_count": null,
      "metadata": {
        "colab": {
          "base_uri": "https://localhost:8080/"
        },
        "id": "OHym22iH80gO",
        "outputId": "2a1561bc-9763-4cfe-a0bd-c79f5a480a49"
      },
      "outputs": [],
      "source": [
        "\n",
        "# Getting a summary of missing values for each field/attribute\n",
        "print(data.isnull().sum())"
      ]
    },
    {
      "cell_type": "code",
      "execution_count": null,
      "metadata": {
        "colab": {
          "base_uri": "https://localhost:8080/",
          "height": 378
        },
        "id": "WOp2y3D_85t_",
        "outputId": "f93c7524-e888-462b-8927-c18bd688fdaf"
      },
      "outputs": [],
      "source": [
        "data[['Open','High','Low','Close','Volume']].plot(kind= 'box' ,layout=(1,5),subplots=True, sharex=False, sharey=False, figsize=(20,6),color='blue')\n",
        "plt.show()\n"
      ]
    },
    {
      "cell_type": "code",
      "execution_count": null,
      "metadata": {
        "colab": {
          "base_uri": "https://localhost:8080/",
          "height": 557
        },
        "id": "c6_jwQV-9ADh",
        "outputId": "b36170f4-202b-49ac-b116-41d9b4b3035c"
      },
      "outputs": [],
      "source": [
        "\n",
        "data.hist()"
      ]
    },
    {
      "cell_type": "code",
      "execution_count": null,
      "metadata": {
        "colab": {
          "base_uri": "https://localhost:8080/",
          "height": 424
        },
        "id": "IGJ2ewpF9gEa",
        "outputId": "3dab1e96-4b5a-4411-f67d-c872b7e88c91"
      },
      "outputs": [],
      "source": [
        "data"
      ]
    },
    {
      "cell_type": "code",
      "execution_count": null,
      "metadata": {
        "id": "aJdleHtD7_-T"
      },
      "outputs": [],
      "source": [
        "scaler = MinMaxScaler()\n",
        "data_without_date = data[['Open','High','Low','Close','Volume']]\n",
        "data_scaled = pd.DataFrame(scaler.fit_transform(data_without_date))"
      ]
    },
    {
      "cell_type": "code",
      "execution_count": null,
      "metadata": {
        "colab": {
          "base_uri": "https://localhost:8080/",
          "height": 424
        },
        "id": "ABbyybHa9nKs",
        "outputId": "7437405a-44dc-4357-c0d2-4c65e1326a80"
      },
      "outputs": [],
      "source": [
        "data_scaled"
      ]
    },
    {
      "cell_type": "code",
      "execution_count": null,
      "metadata": {
        "colab": {
          "base_uri": "https://localhost:8080/",
          "height": 504
        },
        "id": "V2uoQDcR9LWu",
        "outputId": "7c310423-0c8f-4e48-8678-cbe02823dfb8"
      },
      "outputs": [],
      "source": [
        "\n",
        "\n",
        "\n",
        "data_scaled.hist()"
      ]
    },
    {
      "cell_type": "code",
      "execution_count": null,
      "metadata": {
        "colab": {
          "base_uri": "https://localhost:8080/",
          "height": 600
        },
        "id": "ymm4t1on9T5J",
        "outputId": "60f2dc8f-5be5-45e6-879e-f61480c6447e"
      },
      "outputs": [],
      "source": [
        "\n",
        "plt.figure(figsize=(6,6))\n",
        "sns.heatmap(data.corr())"
      ]
    },
    {
      "cell_type": "code",
      "execution_count": null,
      "metadata": {
        "colab": {
          "base_uri": "https://localhost:8080/",
          "height": 424
        },
        "id": "jj1h-1Kh9hax",
        "outputId": "83f7ab6e-2e8f-4781-d46d-dfe2ac289f52"
      },
      "outputs": [],
      "source": [
        "data_scaled=data_scaled.drop([1,2,4], axis=1)\n",
        "data_scaled"
      ]
    },
    {
      "cell_type": "code",
      "execution_count": null,
      "metadata": {
        "id": "SxhOv8dw9Wtu"
      },
      "outputs": [],
      "source": []
    },
    {
      "cell_type": "code",
      "execution_count": null,
      "metadata": {
        "id": "SQw3OodT92PA"
      },
      "outputs": [],
      "source": [
        "def split_seq_multivariate(sequence, n_past, n_future):\n",
        "\n",
        "    '''\n",
        "    n_past ==> no of past observations\n",
        "    n_future ==> no of future observations\n",
        "    '''\n",
        "    x, y = [], []\n",
        "    for window_start in range(len(sequence)):\n",
        "        past_end = window_start + n_past\n",
        "        future_end = past_end + n_future\n",
        "        if future_end > len(sequence):\n",
        "            break\n",
        "        # slicing the past and future parts of the window\n",
        "        past   = sequence[window_start:past_end, :]\n",
        "        future = sequence[past_end:future_end, -1]\n",
        "        x.append(past)\n",
        "        y.append(future)\n",
        "\n",
        "    return np.array(x), np.array(y)\n"
      ]
    },
    {
      "cell_type": "code",
      "execution_count": null,
      "metadata": {
        "colab": {
          "base_uri": "https://localhost:8080/"
        },
        "id": "gBIcd9a5-P8b",
        "outputId": "26cb0224-c05b-48f9-ae91-1b61c4e88c74"
      },
      "outputs": [],
      "source": [
        "\n",
        "# specify the window size\n",
        "n_steps = 60\n",
        "\n",
        "data_scaled = data_scaled.to_numpy()\n",
        "data_scaled.shape"
      ]
    },
    {
      "cell_type": "code",
      "execution_count": null,
      "metadata": {
        "id": "Fjepo6pt-VwQ"
      },
      "outputs": [],
      "source": [
        "\n",
        "# split into samples\n",
        "X, y = split_seq_multivariate(data_scaled, n_steps,1)"
      ]
    },
    {
      "cell_type": "code",
      "execution_count": null,
      "metadata": {
        "colab": {
          "base_uri": "https://localhost:8080/"
        },
        "id": "qSi7iBE1DBC-",
        "outputId": "c4a457e7-c4c2-45d2-984f-12cbb00fb114"
      },
      "outputs": [],
      "source": [
        "X[1].shape"
      ]
    },
    {
      "cell_type": "code",
      "execution_count": null,
      "metadata": {
        "colab": {
          "base_uri": "https://localhost:8080/"
        },
        "id": "KbNpqd79DGYD",
        "outputId": "87f36439-10a4-4c27-ddea-3ca51d27cc83"
      },
      "outputs": [],
      "source": [
        "y"
      ]
    },
    {
      "cell_type": "code",
      "execution_count": null,
      "metadata": {
        "colab": {
          "base_uri": "https://localhost:8080/"
        },
        "id": "wvMWWLi3-Y-_",
        "outputId": "13b36e53-aa93-4d41-f100-e72a05780adc"
      },
      "outputs": [],
      "source": [
        "\n",
        "# X is in the shape of [samples, timesteps, features]\n",
        "print(X.shape)\n",
        "print(y.shape)\n",
        "\n",
        "# make y to the shape of [samples]\n",
        "y=y[:,0]\n",
        "y.shape\n"
      ]
    },
    {
      "cell_type": "code",
      "execution_count": null,
      "metadata": {
        "colab": {
          "base_uri": "https://localhost:8080/"
        },
        "id": "AkQ2UaG9-eN7",
        "outputId": "6cd1e247-202f-4acf-a8cb-551fa4aa2e77"
      },
      "outputs": [],
      "source": [
        "\n",
        "# split into train/test\n",
        "X_train, X_test, y_train, y_test = train_test_split(X,y,test_size=0.2,random_state=50)\n",
        "\n",
        "print(X_train.shape, X_test.shape, y_train.shape, y_test.shape)\n"
      ]
    },
    {
      "cell_type": "code",
      "execution_count": null,
      "metadata": {
        "colab": {
          "base_uri": "https://localhost:8080/"
        },
        "id": "XCJDevru_K14",
        "outputId": "018e3f59-6191-43df-e030-4909985b4ed5"
      },
      "outputs": [],
      "source": [
        "# further dividing the training set into train and validation data\n",
        "X_train, X_val, y_train, y_val = train_test_split(X_train,y_train,test_size=0.2,random_state=30)\n",
        "\n",
        "print(X_train.shape, X_val.shape, y_train.shape, y_val.shape)"
      ]
    },
    {
      "cell_type": "code",
      "execution_count": null,
      "metadata": {
        "id": "NeMXXdOb_Tx6"
      },
      "outputs": [],
      "source": [
        "# define RNN model\n",
        "model = Sequential()\n",
        "model.add(LSTM(612, input_shape=(n_steps,2)))\n",
        "model.add(Dense(50, activation='relu'))\n",
        "model.add(Dense(50, activation='relu'))\n",
        "model.add(Dense(30, activation='relu'))\n",
        "model.add(Dense(1))"
      ]
    },
    {
      "cell_type": "code",
      "execution_count": null,
      "metadata": {
        "colab": {
          "base_uri": "https://localhost:8080/"
        },
        "id": "4HEFNgyE_av8",
        "outputId": "80509768-1b9d-42c3-fa48-333e267ccc94"
      },
      "outputs": [],
      "source": [
        "\n",
        "model.summary()"
      ]
    },
    {
      "cell_type": "code",
      "execution_count": null,
      "metadata": {
        "id": "2W2wFQdl_hyd"
      },
      "outputs": [],
      "source": [
        "# compile the model\n",
        "model.compile(optimizer='adam', loss='mse', metrics=['mae'])"
      ]
    },
    {
      "cell_type": "code",
      "execution_count": null,
      "metadata": {
        "id": "DETNQrGt_pMS"
      },
      "outputs": [],
      "source": [
        "# fit the model\n",
        "history = model.fit(X_train, y_train, epochs=250, batch_size=32, verbose=2, validation_data=(X_val, y_val))  # has used mini batch learning, with batch_s"
      ]
    },
    {
      "cell_type": "code",
      "execution_count": null,
      "metadata": {
        "colab": {
          "base_uri": "https://localhost:8080/",
          "height": 472
        },
        "id": "rCEqo_82_2-b",
        "outputId": "cb02722c-ce04-41b7-801d-088433e24f3e"
      },
      "outputs": [],
      "source": [
        "from matplotlib import pyplot\n",
        "# plot learning curves\n",
        "pyplot.title('Learning Curves')\n",
        "pyplot.xlabel('Epoch')\n",
        "pyplot.ylabel('Root Mean Squared Error')\n",
        "pyplot.plot(history.history['loss'], label='train')\n",
        "pyplot.plot(history.history['val_loss'], label='val')\n",
        "pyplot.legend()\n",
        "pyplot.show()"
      ]
    },
    {
      "cell_type": "code",
      "execution_count": null,
      "metadata": {
        "colab": {
          "base_uri": "https://localhost:8080/"
        },
        "id": "nAdrG-vy_6e6",
        "outputId": "214b41a6-e34a-4bfd-8eeb-7975b0af02da"
      },
      "outputs": [],
      "source": [
        "\n",
        "# evaluate the model\n",
        "mse, mae = model.evaluate(X_test, y_test, verbose=0)\n",
        "print('MSE: %.3f, RMSE: %.3f, MAE: %.3f' % (mse, np.sqrt(mse), mae))"
      ]
    },
    {
      "cell_type": "code",
      "execution_count": null,
      "metadata": {
        "colab": {
          "base_uri": "https://localhost:8080/"
        },
        "id": "oEDaQdv2AGX2",
        "outputId": "cc3afde6-3b92-4a55-c4a0-2768039e9af0"
      },
      "outputs": [],
      "source": [
        "\n",
        "# predicting y_test values\n",
        "print(X_test.shape)\n",
        "predicted_values = model.predict(X_test)\n",
        "print(predicted_values.shape)\n",
        "# print(predicted_values)\n"
      ]
    },
    {
      "cell_type": "code",
      "execution_count": null,
      "metadata": {
        "colab": {
          "base_uri": "https://localhost:8080/",
          "height": 507
        },
        "id": "tGpPo4JzAUJh",
        "outputId": "484939df-4d05-469c-8337-e70cb5a81231"
      },
      "outputs": [],
      "source": [
        "\n",
        "plt.plot(y_test,c = 'r')\n",
        "plt.plot(predicted_values,c = 'y')\n",
        "plt.xlabel('Day')\n",
        "plt.ylabel('Stock Price Volume')\n",
        "plt.title('Stock Price Volume Prediction Graph using RNN (LSTM)')\n",
        "plt.legend(['Actual','Predicted'],loc = 'lower right')\n",
        "plt.figure(figsize=(10,6))\n"
      ]
    },
    {
      "cell_type": "code",
      "execution_count": null,
      "metadata": {
        "colab": {
          "base_uri": "https://localhost:8080/"
        },
        "id": "odmLjE-VAYkY",
        "outputId": "51e469a1-578a-43e8-e789-7e85607e09fb"
      },
      "outputs": [],
      "source": [
        "\n",
        "# evaluating using R squared\n",
        "R_square = r2_score(y_test, predicted_values)\n",
        "\n",
        "print(R_square)"
      ]
    }
  ],
  "metadata": {
    "accelerator": "GPU",
    "colab": {
      "provenance": []
    },
    "gpuClass": "standard",
    "kernelspec": {
      "display_name": "Python 3",
      "name": "python3"
    },
    "language_info": {
      "name": "python"
    }
  },
  "nbformat": 4,
  "nbformat_minor": 0
}
